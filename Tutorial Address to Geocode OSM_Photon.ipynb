{
 "cells": [
  {
   "cell_type": "markdown",
   "id": "naval-seller",
   "metadata": {},
   "source": [
    "## Installation package"
   ]
  },
  {
   "cell_type": "code",
   "execution_count": 5,
   "id": "assumed-adult",
   "metadata": {},
   "outputs": [],
   "source": [
    "#pip install pandas\n",
    "#pip geopandas"
   ]
  },
  {
   "cell_type": "markdown",
   "id": "interracial-explanation",
   "metadata": {},
   "source": [
    "## Import package"
   ]
  },
  {
   "cell_type": "code",
   "execution_count": 1,
   "id": "variable-journey",
   "metadata": {},
   "outputs": [],
   "source": [
    "import pandas as pd\n",
    "from geopandas. tools import geocode"
   ]
  },
  {
   "cell_type": "markdown",
   "id": "ruled-relative",
   "metadata": {},
   "source": [
    "## Set file directory"
   ]
  },
  {
   "cell_type": "code",
   "execution_count": 2,
   "id": "broadband-richmond",
   "metadata": {
    "scrolled": false
   },
   "outputs": [
    {
     "data": {
      "text/html": [
       "<div>\n",
       "<style scoped>\n",
       "    .dataframe tbody tr th:only-of-type {\n",
       "        vertical-align: middle;\n",
       "    }\n",
       "\n",
       "    .dataframe tbody tr th {\n",
       "        vertical-align: top;\n",
       "    }\n",
       "\n",
       "    .dataframe thead th {\n",
       "        text-align: right;\n",
       "    }\n",
       "</style>\n",
       "<table border=\"1\" class=\"dataframe\">\n",
       "  <thead>\n",
       "    <tr style=\"text-align: right;\">\n",
       "      <th></th>\n",
       "      <th>no</th>\n",
       "      <th>place</th>\n",
       "    </tr>\n",
       "  </thead>\n",
       "  <tbody>\n",
       "    <tr>\n",
       "      <th>25</th>\n",
       "      <td>26</td>\n",
       "      <td>Islamic Arts Museum, KL</td>\n",
       "    </tr>\n",
       "    <tr>\n",
       "      <th>26</th>\n",
       "      <td>27</td>\n",
       "      <td>Kampung Baru, KL</td>\n",
       "    </tr>\n",
       "    <tr>\n",
       "      <th>27</th>\n",
       "      <td>28</td>\n",
       "      <td>Kampung Setar</td>\n",
       "    </tr>\n",
       "  </tbody>\n",
       "</table>\n",
       "</div>"
      ],
      "text/plain": [
       "    no                    place\n",
       "25  26  Islamic Arts Museum, KL\n",
       "26  27         Kampung Baru, KL\n",
       "27  28            Kampung Setar"
      ]
     },
     "execution_count": 2,
     "metadata": {},
     "output_type": "execute_result"
    }
   ],
   "source": [
    "addr = pd.read_csv(r\"C:\\Users\\Najmi Ariffin\\Documents\\Research\\Data DC\\sample_addr.csv\") #file directory\n",
    "addr = addr.head(30:50) #search for place at 30-50 rows on the list\n",
    "addr.tail(3) #check last 3 place on dataset"
   ]
  },
  {
   "cell_type": "code",
   "execution_count": 3,
   "id": "prerequisite-multiple",
   "metadata": {
    "scrolled": true
   },
   "outputs": [
    {
     "name": "stdout",
     "output_type": "stream",
     "text": [
      "A' Famosa Resort, Malacca\n",
      "Alor street food night market, KL\n",
      "Geocoding information for Alor street food night market, KL is not found!\n",
      "\n",
      "Aquaria KLCC, at KLCC tower, KL\n",
      "Geocoding information for Aquaria KLCC, at KLCC tower, KL is not found!\n",
      "\n",
      "Bakelalan, Sarawak\n",
      "Bario , Sarawak\n",
      "Batu Caves, Selangor\n",
      "Batu Ferringhi, George Town\n",
      "Berjaya Hills Resort. French-themed village\n",
      "Geocoding information for Berjaya Hills Resort. French-themed village is not found!\n",
      "\n",
      "Berjaya Times Square KL, KL\n",
      "Bukit Bintangwalk, KL\n",
      "Cruise Tasik Putrajaya (CTP) Lake cruises, boat rides, Putrajaya\n",
      "Geocoding information for Cruise Tasik Putrajaya (CTP) Lake cruises, boat rides, Putrajaya is not found!\n",
      "\n",
      "Cameron Highlands, Pahang\n",
      "Central Market, KL\n",
      "Cheng Hoon Teng Temple (青云亭), Malacca\n",
      "Geocoding information for Cheng Hoon Teng Temple (青云亭), Malacca is not found!\n",
      "\n",
      "Chin Swee Caves Temple, Pahang\n",
      "Crystal Mosque, Kuala Terengganu\n",
      "Dhammikarama Burmese Temple, Penang\n",
      "Dong Zen Temple, Selangor\n",
      "Eye on Malaysia, Malacca\n",
      "Forest Research Institute Malaysia (FRIM)\n",
      "Fort Cornwallis, George Town\n",
      "Fraser's Hill\n",
      "Genting Highlands, Pahang\n",
      "Gurney Drive, George Town\n",
      "Iskandar waterfall Kota Tinggiwaterfalls\n",
      "Geocoding information for Iskandar waterfall Kota Tinggiwaterfalls is not found!\n",
      "\n",
      "Islamic Arts Museum, KL\n",
      "Kampung Baru, KL\n",
      "Kampung Setar\n"
     ]
    }
   ],
   "source": [
    "# Iterate through the addr DataFrame\n",
    "for index, row in addr.iterrows():\n",
    "    try: \n",
    "        print(row['place'])\n",
    "        info = geocode(str(row['place']), provider = 'photon' )\n",
    "        addr.loc[int(index), 'Address'] = info['address'].loc[0]\n",
    "        addr.loc[int(index), 'Lon'] = info['geometry'].loc[0].x\n",
    "        addr.loc[int(index), 'Lat'] = info['geometry'].loc[0].y\n",
    "        \n",
    "    except TypeError:\n",
    "        print ('Geocoding information for '+ row['place']+ \" is not found!\")\n",
    "        print ('')\n",
    "\n",
    "# Removing the Nan rows \n",
    "#addr = addr.dropna()"
   ]
  },
  {
   "cell_type": "markdown",
   "id": "authentic-intervention",
   "metadata": {},
   "source": [
    "## Check the result"
   ]
  },
  {
   "cell_type": "code",
   "execution_count": 6,
   "id": "immediate-cricket",
   "metadata": {
    "scrolled": true
   },
   "outputs": [
    {
     "data": {
      "text/html": [
       "<div>\n",
       "<style scoped>\n",
       "    .dataframe tbody tr th:only-of-type {\n",
       "        vertical-align: middle;\n",
       "    }\n",
       "\n",
       "    .dataframe tbody tr th {\n",
       "        vertical-align: top;\n",
       "    }\n",
       "\n",
       "    .dataframe thead th {\n",
       "        text-align: right;\n",
       "    }\n",
       "</style>\n",
       "<table border=\"1\" class=\"dataframe\">\n",
       "  <thead>\n",
       "    <tr style=\"text-align: right;\">\n",
       "      <th></th>\n",
       "      <th>no</th>\n",
       "      <th>place</th>\n",
       "      <th>Address</th>\n",
       "      <th>Lon</th>\n",
       "      <th>Lat</th>\n",
       "    </tr>\n",
       "  </thead>\n",
       "  <tbody>\n",
       "    <tr>\n",
       "      <th>0</th>\n",
       "      <td>1</td>\n",
       "      <td>A' Famosa Resort, Malacca</td>\n",
       "      <td>a famosa resort hotel , Jalan Alor Gajah–Tampi...</td>\n",
       "      <td>102.216805</td>\n",
       "      <td>2.403617</td>\n",
       "    </tr>\n",
       "    <tr>\n",
       "      <th>1</th>\n",
       "      <td>2</td>\n",
       "      <td>Alor street food night market, KL</td>\n",
       "      <td>NaN</td>\n",
       "      <td>NaN</td>\n",
       "      <td>NaN</td>\n",
       "    </tr>\n",
       "    <tr>\n",
       "      <th>2</th>\n",
       "      <td>3</td>\n",
       "      <td>Aquaria KLCC, at KLCC tower, KL</td>\n",
       "      <td>NaN</td>\n",
       "      <td>NaN</td>\n",
       "      <td>NaN</td>\n",
       "    </tr>\n",
       "    <tr>\n",
       "      <th>3</th>\n",
       "      <td>4</td>\n",
       "      <td>Bakelalan, Sarawak</td>\n",
       "      <td>Lapangan Terbang Bakelalan, Ba'kelalan, Sarawa...</td>\n",
       "      <td>115.617550</td>\n",
       "      <td>3.974064</td>\n",
       "    </tr>\n",
       "    <tr>\n",
       "      <th>4</th>\n",
       "      <td>5</td>\n",
       "      <td>Bario , Sarawak</td>\n",
       "      <td>Bario, Sarawak, Malaysia</td>\n",
       "      <td>115.460371</td>\n",
       "      <td>3.747920</td>\n",
       "    </tr>\n",
       "  </tbody>\n",
       "</table>\n",
       "</div>"
      ],
      "text/plain": [
       "   no                              place  \\\n",
       "0   1          A' Famosa Resort, Malacca   \n",
       "1   2  Alor street food night market, KL   \n",
       "2   3    Aquaria KLCC, at KLCC tower, KL   \n",
       "3   4                 Bakelalan, Sarawak   \n",
       "4   5                    Bario , Sarawak   \n",
       "\n",
       "                                             Address         Lon       Lat  \n",
       "0  a famosa resort hotel , Jalan Alor Gajah–Tampi...  102.216805  2.403617  \n",
       "1                                                NaN         NaN       NaN  \n",
       "2                                                NaN         NaN       NaN  \n",
       "3  Lapangan Terbang Bakelalan, Ba'kelalan, Sarawa...  115.617550  3.974064  \n",
       "4                           Bario, Sarawak, Malaysia  115.460371  3.747920  "
      ]
     },
     "execution_count": 6,
     "metadata": {},
     "output_type": "execute_result"
    }
   ],
   "source": [
    "addr.head()"
   ]
  },
  {
   "cell_type": "markdown",
   "id": "auburn-david",
   "metadata": {},
   "source": [
    "## Save the result to csv"
   ]
  },
  {
   "cell_type": "code",
   "execution_count": 57,
   "id": "reflected-funeral",
   "metadata": {},
   "outputs": [],
   "source": [
    "addr.to_csv('bestplace_msia.csv')\n",
    "#addr.to_csv('johor_lg.csv', mode='a', header=False) #append the list"
   ]
  },
  {
   "cell_type": "code",
   "execution_count": null,
   "id": "brilliant-threat",
   "metadata": {},
   "outputs": [],
   "source": []
  }
 ],
 "metadata": {
  "kernelspec": {
   "display_name": "Python 3",
   "language": "python",
   "name": "python3"
  },
  "language_info": {
   "codemirror_mode": {
    "name": "ipython",
    "version": 3
   },
   "file_extension": ".py",
   "mimetype": "text/x-python",
   "name": "python",
   "nbconvert_exporter": "python",
   "pygments_lexer": "ipython3",
   "version": "3.9.1"
  }
 },
 "nbformat": 4,
 "nbformat_minor": 5
}
